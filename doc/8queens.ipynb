{
 "cells": [
  {
   "cell_type": "markdown",
   "metadata": {},
   "source": [
    "## Algoritmo 1 : Fuerza Bruta !!"
   ]
  },
  {
   "cell_type": "code",
   "execution_count": 125,
   "metadata": {},
   "outputs": [],
   "source": [
    "import time\n",
    "\n",
    "def eval(func,n,repeticiones):\n",
    "    repeticiones = range(repeticiones)\n",
    "    start = time.time()\n",
    "    for r in repeticiones:\n",
    "        func(n)\n",
    "    #func(n)\n",
    "    end = time.time()\n",
    "    return end - start"
   ]
  },
  {
   "cell_type": "code",
   "execution_count": 126,
   "metadata": {},
   "outputs": [],
   "source": [
    "#https://github.com/snazrul1/PyRevolution/blob/master/Puzzles/N_Queen_Problem.ipynb\n",
    "from itertools import permutations\n",
    "def eight_queen_ver1(N):\n",
    "    sol=0\n",
    "    cols = range(N)\n",
    "    for combo in permutations(cols):                      \n",
    "        if N==len(set(combo[i]+i for i in cols))==len(set(combo[i]-i for i in cols)):\n",
    "            #sol += 1\n",
    "            #print('Solution '+str(sol)+': '+str(combo))  \n",
    "            pass\n",
    "            #print(\"\\n\".join(' o ' * i + ' X ' + ' o ' * (N-i-1) for i in combo) + \"\\n\\n\\n\\n\")\n"
   ]
  },
  {
   "cell_type": "code",
   "execution_count": 127,
   "metadata": {},
   "outputs": [
    {
     "name": "stdout",
     "output_type": "stream",
     "text": [
      "Solution 0: [1, 3, 0, 2]\n",
      "Solution 0: [2, 0, 3, 1]\n"
     ]
    }
   ],
   "source": [
    "def eight_queen(N):\n",
    "    sol=0\n",
    "    cols = range(N)\n",
    "    for combo in permutations(cols):\n",
    "        #print(list(combo))\n",
    "        if N==len(set(combo[i]+i for i in cols))==len(set(combo[i]-i for i in cols)):\n",
    "            #sol += 1\n",
    "            print('Solution '+str(sol)+': '+str(list(combo)))  \n",
    "            #pass\n",
    "            #print(\"\\n\".join(' o ' * i + ' X ' + ' o ' * (N-i-1) for i in combo) + \"\\n\\n\\n\\n\")\n",
    "eight_queen(4)"
   ]
  },
  {
   "cell_type": "code",
   "execution_count": 128,
   "metadata": {},
   "outputs": [],
   "source": [
    "import numpy as np\n",
    "import matplotlib.pyplot as plt"
   ]
  },
  {
   "cell_type": "code",
   "execution_count": 145,
   "metadata": {},
   "outputs": [
    {
     "data": {
      "text/plain": [
       "<matplotlib.legend.Legend at 0x1fb64ea35c0>"
      ]
     },
     "execution_count": 145,
     "metadata": {},
     "output_type": "execute_result"
    },
    {
     "data": {
      "image/png": "[encoded data removed]",
      "text/plain": [
       "<Figure size 432x288 with 1 Axes>"
      ]
     },
     "metadata": {
      "needs_background": "light"
     },
     "output_type": "display_data"
    }
   ],
   "source": [
    "N = 11\n",
    "X = np.arange(0, N)\n",
    "Y = [eval(eight_queen_ver1,i,20) * 10 for i in X]\n",
    "plt.plot(X, Y, c='green')\n",
    "plt.xlabel('Tamaño de datos(n)', fontsize=16)\n",
    "plt.ylabel('Número of operaciones', fontsize=16)\n",
    "plt.legend(['Algoritmo 1'], loc='best', fontsize=20)"
   ]
  },
  {
   "cell_type": "code",
   "execution_count": null,
   "metadata": {},
   "outputs": [],
   "source": [
    "#https://handcraftsman.wordpress.com/2015/06/20/evolving-a-genetic-solver-in-python-part-2/"
   ]
  },
  {
   "cell_type": "code",
   "execution_count": 146,
   "metadata": {},
   "outputs": [],
   "source": [
    "import time\n",
    "from functools import wraps\n",
    "import numpy as np\n",
    "#https://github.com/edorado93/Save-The-Queens/blob/master/n-queens-backtracking-optimized.py\n",
    "\n",
    "def flat_matrix(sol):\n",
    "    sol = np.array(sol)\n",
    "    a = []\n",
    "    for i in sol.T:\n",
    "        result = np.where(i == 1)\n",
    "        a.append(result[0][0])\n",
    "    print(a)\n",
    "\n",
    "\n",
    "class BacktrackingNQueensOptimizedSafetyCheck:\n",
    "    def __init__(self, N):\n",
    "        self.diagonals = {}\n",
    "        self.anti_diagonals = {}\n",
    "        self.rows = {}\n",
    "        self.columns = {}\n",
    "        self.N = N\n",
    "        self.board = [[0 for x in range(N)] for y in range(N)]\n",
    "        self.number_of_solutions = 0\n",
    "\n",
    "    def is_cell_safe(self, r, c):\n",
    "        if r in self.rows:\n",
    "            return False\n",
    "        if c in self.columns:\n",
    "            return False\n",
    "        if r - c in self.diagonals:\n",
    "            return False\n",
    "        if r + c  in self.anti_diagonals:\n",
    "            return False\n",
    "\n",
    "        return True\n",
    "\n",
    "    def place_a_queen(self, r, c):\n",
    "        self.rows[r] = True\n",
    "        self.columns[c] = True\n",
    "        self.diagonals[r - c] = True\n",
    "        self.anti_diagonals[r + c] = True\n",
    "        self.board[r][c] = 1\n",
    "        \n",
    "\n",
    "    def undo_placing_a_queen(self, r, c):\n",
    "        del self.rows[r]\n",
    "        del self.columns[c]\n",
    "        del self.diagonals[r - c]\n",
    "        del self.anti_diagonals[r + c]\n",
    "        self.board[r][c] = 0\n",
    "\n",
    "    def run(self):\n",
    "        self.solve(0)\n",
    "\n",
    "    def solve(self, column):\n",
    "        if column == self.N:\n",
    "            self.number_of_solutions += 1\n",
    "            #flat_matrix(self.board)\n",
    "            #print(\"nro. soluciones:\", self.number_of_solutions)\n",
    "            return\n",
    "        for i in range(self.N):\n",
    "            if self.is_cell_safe(i, column):\n",
    "                self.place_a_queen(i, column)\n",
    "                self.solve(column + 1)\n",
    "                self.undo_placing_a_queen(i, column)\n",
    "\n",
    "    def get_number_of_solutions(self):\n",
    "        return self.number_of_solutions"
   ]
  },
  {
   "cell_type": "code",
   "execution_count": 147,
   "metadata": {},
   "outputs": [],
   "source": [
    "def eight_queen_ver2(N):\n",
    "    solver = BacktrackingNQueensOptimizedSafetyCheck(i)\n",
    "    solver.run()"
   ]
  },
  {
   "cell_type": "code",
   "execution_count": 148,
   "metadata": {},
   "outputs": [],
   "source": [
    "#https://medium.freecodecamp.org/lets-backtrack-and-save-some-queens-1f9ef6af5415"
   ]
  },
  {
   "cell_type": "code",
   "execution_count": 149,
   "metadata": {},
   "outputs": [
    {
     "data": {
      "text/plain": [
       "<matplotlib.legend.Legend at 0x1fb65010978>"
      ]
     },
     "execution_count": 149,
     "metadata": {},
     "output_type": "execute_result"
    },
    {
     "data": {
      "image/png": "[encoded data removed]",
      "text/plain": [
       "<Figure size 432x288 with 1 Axes>"
      ]
     },
     "metadata": {
      "needs_background": "light"
     },
     "output_type": "display_data"
    }
   ],
   "source": [
    "#N = 11\n",
    "#X = np.arange(0, N)\n",
    "Y2 = [eval(eight_queen_ver2,i,20) * 10 for i in X]\n",
    "plt.plot(X, Y, c='green')\n",
    "plt.plot(X, Y2, c='blue')\n",
    "plt.xlabel('Tamaño de datos(n)', fontsize=16)\n",
    "plt.ylabel('Número of operaciones', fontsize=16)\n",
    "plt.legend(['Algoritmo 1','Algoritmo 2'], loc='best', fontsize=20)"
   ]
  },
  {
   "cell_type": "code",
   "execution_count": 7,
   "metadata": {},
   "outputs": [
    {
     "name": "stdout",
     "output_type": "stream",
     "text": [
      "MetaData(bind=None)\n"
     ]
    }
   ],
   "source": [
    "#https://github.com/johnbhurst/nqueens\n",
    "#http://www.ic-net.or.jp/home/takaken/e/queen/\n",
    "#http://deepgreen.game.coocan.jp/NQueens/nqueen_index.htm"
   ]
  },
  {
   "cell_type": "code",
   "execution_count": null,
   "metadata": {},
   "outputs": [],
   "source": []
  }
 ],
 "metadata": {
  "kernelspec": {
   "display_name": "Python 3",
   "language": "python",
   "name": "python3"
  },
  "language_info": {
   "codemirror_mode": {
    "name": "ipython",
    "version": 3
   },
   "file_extension": ".py",
   "mimetype": "text/x-python",
   "name": "python",
   "nbconvert_exporter": "python",
   "pygments_lexer": "ipython3",
   "version": "3.7.1"
  }
 },
 "nbformat": 4,
 "nbformat_minor": 2
}
