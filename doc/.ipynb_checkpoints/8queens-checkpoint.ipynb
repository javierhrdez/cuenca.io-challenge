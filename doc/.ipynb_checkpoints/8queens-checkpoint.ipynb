{
 "cells": [
  {
   "cell_type": "markdown",
   "metadata": {},
   "source": [
    "# En esta libreta se evalúan algoritmos para obtener tratar de llegar al mayor tamaño de tablero posible "
   ]
  },
  {
   "cell_type": "markdown",
   "metadata": {},
   "source": [
    "## Algoritmo 1 : Fuerza Bruta "
   ]
  },
  {
   "cell_type": "code",
   "execution_count": 4,
   "metadata": {},
   "outputs": [],
   "source": [
    "# función para evaluar el tiempo de ejecución de una función\n",
    "\n",
    "import time\n",
    "def eval(func,n,repeticiones):\n",
    "    repeticiones = range(repeticiones)\n",
    "    start = time.time()\n",
    "    for r in repeticiones:\n",
    "        func(n)\n",
    "    end = time.time()\n",
    "    return end - start\n",
    "\n"
   ]
  },
  {
   "cell_type": "code",
   "execution_count": 6,
   "metadata": {},
   "outputs": [],
   "source": [
    "#https://github.com/snazrul1/PyRevolution/blob/master/Puzzles/N_Queen_Problem.ipynb\n",
    "\n",
    "from itertools import permutations\n",
    "def eight_queen_ver1(N):\n",
    "    sol=0\n",
    "    cols = range(N)\n",
    "    for combo in permutations(cols):                      \n",
    "        if N==len(set(combo[i]+i for i in cols))==len(set(combo[i]-i for i in cols)):\n",
    "            pass\n",
    "\n"
   ]
  },
  {
   "cell_type": "code",
   "execution_count": 7,
   "metadata": {},
   "outputs": [],
   "source": [
    "import numpy as np\n",
    "import matplotlib.pyplot as plt"
   ]
  },
  {
   "cell_type": "markdown",
   "metadata": {},
   "source": [
    "## Algoritmo 2 : Backtracking "
   ]
  },
  {
   "cell_type": "code",
   "execution_count": 8,
   "metadata": {},
   "outputs": [],
   "source": [
    "#https://github.com/edorado93/Save-The-Queens/blob/master/n-queens-backtracking-optimized.py\n",
    "import time\n",
    "from functools import wraps\n",
    "import numpy as np\n",
    "\n",
    "\n",
    "def flat_matrix(sol):\n",
    "    sol = np.array(sol)\n",
    "    a = []\n",
    "    for i in sol.T:\n",
    "        result = np.where(i == 1)\n",
    "        a.append(result[0][0])\n",
    "    print(a)\n",
    "\n",
    "\n",
    "class BacktrackingNQueensOptimizedSafetyCheck:\n",
    "    def __init__(self, N):\n",
    "        self.diagonals = {}\n",
    "        self.anti_diagonals = {}\n",
    "        self.rows = {}\n",
    "        self.columns = {}\n",
    "        self.N = N\n",
    "        self.board = [[0 for x in range(N)] for y in range(N)]\n",
    "        self.number_of_solutions = 0\n",
    "\n",
    "    def is_cell_safe(self, r, c):\n",
    "        if r in self.rows:\n",
    "            return False\n",
    "        if c in self.columns:\n",
    "            return False\n",
    "        if r - c in self.diagonals:\n",
    "            return False\n",
    "        if r + c  in self.anti_diagonals:\n",
    "            return False\n",
    "\n",
    "        return True\n",
    "\n",
    "    def place_a_queen(self, r, c):\n",
    "        self.rows[r] = True\n",
    "        self.columns[c] = True\n",
    "        self.diagonals[r - c] = True\n",
    "        self.anti_diagonals[r + c] = True\n",
    "        self.board[r][c] = 1\n",
    "        \n",
    "\n",
    "    def undo_placing_a_queen(self, r, c):\n",
    "        del self.rows[r]\n",
    "        del self.columns[c]\n",
    "        del self.diagonals[r - c]\n",
    "        del self.anti_diagonals[r + c]\n",
    "        self.board[r][c] = 0\n",
    "\n",
    "    def run(self):\n",
    "        self.solve(0)\n",
    "\n",
    "    def solve(self, column):\n",
    "        if column == self.N:\n",
    "            self.number_of_solutions += 1\n",
    "            return\n",
    "        for i in range(self.N):\n",
    "            if self.is_cell_safe(i, column):\n",
    "                self.place_a_queen(i, column)\n",
    "                self.solve(column + 1)\n",
    "                self.undo_placing_a_queen(i, column)\n",
    "\n",
    "    def get_number_of_solutions(self):\n",
    "        return self.number_of_solutions"
   ]
  },
  {
   "cell_type": "code",
   "execution_count": 14,
   "metadata": {},
   "outputs": [],
   "source": [
    "def eight_queen_ver2(N):\n",
    "    solver = BacktrackingNQueensOptimizedSafetyCheck(N)\n",
    "    solver.run()"
   ]
  },
  {
   "cell_type": "code",
   "execution_count": 15,
   "metadata": {},
   "outputs": [],
   "source": [
    "import numpy as np\n",
    "import matplotlib.pyplot as plt\n",
    "%matplotlib inline"
   ]
  },
  {
   "cell_type": "markdown",
   "metadata": {},
   "source": [
    "## Fuerza Bruta v/s Bactracking"
   ]
  },
  {
   "cell_type": "code",
   "execution_count": 16,
   "metadata": {},
   "outputs": [
    {
     "data": {
      "text/plain": [
       "<matplotlib.legend.Legend at 0x202ad001a90>"
      ]
     },
     "execution_count": 16,
     "metadata": {},
     "output_type": "execute_result"
    },
    {
     "data": {
      "image/png": "[encoded data removed]",
      "text/plain": [
       "<Figure size 432x288 with 1 Axes>"
      ]
     },
     "metadata": {
      "needs_background": "light"
     },
     "output_type": "display_data"
    }
   ],
   "source": [
    "N = 11\n",
    "X = np.arange(0, N)\n",
    "Y = [eval(eight_queen_ver1,i,1) * 10 for i in X]\n",
    "Y2 = [eval(eight_queen_ver2,i,1) * 10 for i in X]\n",
    "plt.plot(X, Y, c='green')\n",
    "plt.plot(X, Y2, c='blue')\n",
    "plt.xlabel('Tamaño de datos(n)', fontsize=16)\n",
    "plt.ylabel('Número of operaciones', fontsize=16)\n",
    "plt.legend(['Fuerza Bruta','Backtracking'], loc='best', fontsize=20)"
   ]
  },
  {
   "cell_type": "markdown",
   "metadata": {},
   "source": [
    "## Lo que se quiere analizar es el tiempo de respuesta vs tamaño del tablero. Entonces,basado en el gráfico anterior podemos notar que el algoritmo de bactracking se comporta de mejor manera que el algoritmo de fuerza bruta, ya que a N mayores el tiempo de respuesta es menor. "
   ]
  },
  {
   "cell_type": "code",
   "execution_count": null,
   "metadata": {},
   "outputs": [],
   "source": []
  }
 ],
 "metadata": {
  "kernelspec": {
   "display_name": "Python 3",
   "language": "python",
   "name": "python3"
  },
  "language_info": {
   "codemirror_mode": {
    "name": "ipython",
    "version": 3
   },
   "file_extension": ".py",
   "mimetype": "text/x-python",
   "name": "python",
   "nbconvert_exporter": "python",
   "pygments_lexer": "ipython3",
   "version": "3.7.1"
  }
 },
 "nbformat": 4,
 "nbformat_minor": 2
}
